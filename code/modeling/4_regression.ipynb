{
 "cells": [
  {
   "cell_type": "markdown",
   "metadata": {},
   "source": [
    "## 4. Training and inference -->**Regression**"
   ]
  },
  {
   "cell_type": "code",
   "execution_count": 1,
   "metadata": {},
   "outputs": [
    {
     "name": "stderr",
     "output_type": "stream",
     "text": [
      "/home/egkiastas/anaconda3/envs/thesis/lib/python3.7/site-packages/sklearn/experimental/enable_hist_gradient_boosting.py:17: UserWarning: Since version 1.0, it is not needed to import enable_hist_gradient_boosting anymore. HistGradientBoostingClassifier and HistGradientBoostingRegressor are now stable and can be normally imported from sklearn.ensemble.\n",
      "  \"Since version 1.0, \"\n"
     ]
    }
   ],
   "source": [
    "#Importing the libraries\n",
    "import pandas as pd\n",
    "import numpy as np\n",
    "import matplotlib.pyplot as plt\n",
    "import seaborn as sns\n",
    "import time\n",
    "\n",
    "from sklearn.compose import ColumnTransformer\n",
    "from sklearn.preprocessing import OneHotEncoder, StandardScaler, PolynomialFeatures, MinMaxScaler, Normalizer\n",
    "from sklearn.model_selection import train_test_split, GridSearchCV\n",
    "from sklearn.pipeline import Pipeline\n",
    "from sklearn.multioutput import MultiOutputRegressor, RegressorChain\n",
    "from sklearn.linear_model import LinearRegression, MultiTaskLasso, MultiTaskElasticNet, Ridge, SGDRegressor, Lasso, ElasticNet\n",
    "from sklearn.experimental import enable_hist_gradient_boosting\n",
    "from sklearn.ensemble import RandomForestRegressor, ExtraTreesRegressor, GradientBoostingRegressor, HistGradientBoostingRegressor\n",
    "from sklearn.svm import SVR\n",
    "from sklearn.kernel_ridge import KernelRidge\n",
    "from sklearn.neighbors import KNeighborsRegressor\n",
    "from sklearn.tree import DecisionTreeRegressor\n",
    "from sklearn.neural_network import MLPRegressor\n",
    "\n",
    "import xgboost\n",
    "\n",
    "from sklearn.metrics import r2_score, mean_squared_error, mean_absolute_error\n",
    "from scipy.stats import spearmanr\n",
    "\n",
    "import pandas_profiling\n",
    "from pandas_profiling import ProfileReport\n",
    "from IPython.core.interactiveshell import InteractiveShell\n",
    "InteractiveShell.ast_node_interactivity = 'all'\n",
    "pd.set_option('display.max_columns', None)"
   ]
  },
  {
   "cell_type": "markdown",
   "metadata": {},
   "source": [
    "## Read Data"
   ]
  },
  {
   "cell_type": "code",
   "execution_count": 2,
   "metadata": {},
   "outputs": [
    {
     "data": {
      "text/html": [
       "<div>\n",
       "<style scoped>\n",
       "    .dataframe tbody tr th:only-of-type {\n",
       "        vertical-align: middle;\n",
       "    }\n",
       "\n",
       "    .dataframe tbody tr th {\n",
       "        vertical-align: top;\n",
       "    }\n",
       "\n",
       "    .dataframe thead th {\n",
       "        text-align: right;\n",
       "    }\n",
       "</style>\n",
       "<table border=\"1\" class=\"dataframe\">\n",
       "  <thead>\n",
       "    <tr style=\"text-align: right;\">\n",
       "      <th></th>\n",
       "      <th>player_name</th>\n",
       "      <th>player_position</th>\n",
       "      <th>player_foot</th>\n",
       "      <th>player_height</th>\n",
       "      <th>age</th>\n",
       "      <th>fifa_rating</th>\n",
       "      <th>fifa_potential</th>\n",
       "      <th>after_injury</th>\n",
       "      <th>injury_days</th>\n",
       "      <th>rest_days</th>\n",
       "      <th>form_last1</th>\n",
       "      <th>form_last3</th>\n",
       "      <th>form_last5</th>\n",
       "      <th>form_last10</th>\n",
       "      <th>current_team_category</th>\n",
       "      <th>opponent_category</th>\n",
       "      <th>home_fixture</th>\n",
       "      <th>Performance</th>\n",
       "    </tr>\n",
       "  </thead>\n",
       "  <tbody>\n",
       "    <tr>\n",
       "      <th>0</th>\n",
       "      <td>Messi</td>\n",
       "      <td>F</td>\n",
       "      <td>Left</td>\n",
       "      <td>169</td>\n",
       "      <td>28.18</td>\n",
       "      <td>94</td>\n",
       "      <td>95</td>\n",
       "      <td>0</td>\n",
       "      <td>0</td>\n",
       "      <td>78.0</td>\n",
       "      <td>NaN</td>\n",
       "      <td>NaN</td>\n",
       "      <td>NaN</td>\n",
       "      <td>NaN</td>\n",
       "      <td>1</td>\n",
       "      <td>0</td>\n",
       "      <td>0</td>\n",
       "      <td>7.8</td>\n",
       "    </tr>\n",
       "    <tr>\n",
       "      <th>1</th>\n",
       "      <td>Messi</td>\n",
       "      <td>F</td>\n",
       "      <td>Left</td>\n",
       "      <td>169</td>\n",
       "      <td>28.20</td>\n",
       "      <td>94</td>\n",
       "      <td>95</td>\n",
       "      <td>0</td>\n",
       "      <td>0</td>\n",
       "      <td>6.0</td>\n",
       "      <td>8.60</td>\n",
       "      <td>NaN</td>\n",
       "      <td>NaN</td>\n",
       "      <td>NaN</td>\n",
       "      <td>1</td>\n",
       "      <td>0</td>\n",
       "      <td>1</td>\n",
       "      <td>9.4</td>\n",
       "    </tr>\n",
       "    <tr>\n",
       "      <th>2</th>\n",
       "      <td>Messi</td>\n",
       "      <td>F</td>\n",
       "      <td>Left</td>\n",
       "      <td>169</td>\n",
       "      <td>28.24</td>\n",
       "      <td>94</td>\n",
       "      <td>95</td>\n",
       "      <td>0</td>\n",
       "      <td>0</td>\n",
       "      <td>14.0</td>\n",
       "      <td>9.00</td>\n",
       "      <td>NaN</td>\n",
       "      <td>NaN</td>\n",
       "      <td>NaN</td>\n",
       "      <td>1</td>\n",
       "      <td>1</td>\n",
       "      <td>0</td>\n",
       "      <td>8.6</td>\n",
       "    </tr>\n",
       "    <tr>\n",
       "      <th>3</th>\n",
       "      <td>Messi</td>\n",
       "      <td>F</td>\n",
       "      <td>Left</td>\n",
       "      <td>169</td>\n",
       "      <td>28.26</td>\n",
       "      <td>94</td>\n",
       "      <td>95</td>\n",
       "      <td>0</td>\n",
       "      <td>0</td>\n",
       "      <td>4.0</td>\n",
       "      <td>9.30</td>\n",
       "      <td>8.950</td>\n",
       "      <td>NaN</td>\n",
       "      <td>NaN</td>\n",
       "      <td>1</td>\n",
       "      <td>0</td>\n",
       "      <td>1</td>\n",
       "      <td>10.0</td>\n",
       "    </tr>\n",
       "    <tr>\n",
       "      <th>4</th>\n",
       "      <td>Messi</td>\n",
       "      <td>F</td>\n",
       "      <td>Left</td>\n",
       "      <td>169</td>\n",
       "      <td>28.27</td>\n",
       "      <td>94</td>\n",
       "      <td>95</td>\n",
       "      <td>0</td>\n",
       "      <td>0</td>\n",
       "      <td>3.0</td>\n",
       "      <td>9.55</td>\n",
       "      <td>9.275</td>\n",
       "      <td>NaN</td>\n",
       "      <td>NaN</td>\n",
       "      <td>1</td>\n",
       "      <td>0</td>\n",
       "      <td>0</td>\n",
       "      <td>9.1</td>\n",
       "    </tr>\n",
       "    <tr>\n",
       "      <th>...</th>\n",
       "      <td>...</td>\n",
       "      <td>...</td>\n",
       "      <td>...</td>\n",
       "      <td>...</td>\n",
       "      <td>...</td>\n",
       "      <td>...</td>\n",
       "      <td>...</td>\n",
       "      <td>...</td>\n",
       "      <td>...</td>\n",
       "      <td>...</td>\n",
       "      <td>...</td>\n",
       "      <td>...</td>\n",
       "      <td>...</td>\n",
       "      <td>...</td>\n",
       "      <td>...</td>\n",
       "      <td>...</td>\n",
       "      <td>...</td>\n",
       "      <td>...</td>\n",
       "    </tr>\n",
       "    <tr>\n",
       "      <th>5626</th>\n",
       "      <td>Azpilicueta</td>\n",
       "      <td>D</td>\n",
       "      <td>Right</td>\n",
       "      <td>178</td>\n",
       "      <td>32.41</td>\n",
       "      <td>83</td>\n",
       "      <td>83</td>\n",
       "      <td>0</td>\n",
       "      <td>0</td>\n",
       "      <td>3.0</td>\n",
       "      <td>7.05</td>\n",
       "      <td>7.175</td>\n",
       "      <td>7.066667</td>\n",
       "      <td>7.018182</td>\n",
       "      <td>1</td>\n",
       "      <td>1</td>\n",
       "      <td>0</td>\n",
       "      <td>7.2</td>\n",
       "    </tr>\n",
       "    <tr>\n",
       "      <th>5627</th>\n",
       "      <td>Azpilicueta</td>\n",
       "      <td>D</td>\n",
       "      <td>Right</td>\n",
       "      <td>178</td>\n",
       "      <td>32.41</td>\n",
       "      <td>83</td>\n",
       "      <td>83</td>\n",
       "      <td>0</td>\n",
       "      <td>0</td>\n",
       "      <td>3.0</td>\n",
       "      <td>7.20</td>\n",
       "      <td>7.175</td>\n",
       "      <td>7.066667</td>\n",
       "      <td>7.036364</td>\n",
       "      <td>1</td>\n",
       "      <td>0</td>\n",
       "      <td>0</td>\n",
       "      <td>7.2</td>\n",
       "    </tr>\n",
       "    <tr>\n",
       "      <th>5628</th>\n",
       "      <td>Azpilicueta</td>\n",
       "      <td>D</td>\n",
       "      <td>Right</td>\n",
       "      <td>178</td>\n",
       "      <td>32.43</td>\n",
       "      <td>83</td>\n",
       "      <td>83</td>\n",
       "      <td>0</td>\n",
       "      <td>0</td>\n",
       "      <td>5.0</td>\n",
       "      <td>7.30</td>\n",
       "      <td>7.175</td>\n",
       "      <td>7.216667</td>\n",
       "      <td>7.081818</td>\n",
       "      <td>1</td>\n",
       "      <td>1</td>\n",
       "      <td>1</td>\n",
       "      <td>7.4</td>\n",
       "    </tr>\n",
       "    <tr>\n",
       "      <th>5629</th>\n",
       "      <td>Azpilicueta</td>\n",
       "      <td>D</td>\n",
       "      <td>Right</td>\n",
       "      <td>178</td>\n",
       "      <td>32.55</td>\n",
       "      <td>83</td>\n",
       "      <td>83</td>\n",
       "      <td>1</td>\n",
       "      <td>7</td>\n",
       "      <td>16.0</td>\n",
       "      <td>6.95</td>\n",
       "      <td>7.075</td>\n",
       "      <td>7.100000</td>\n",
       "      <td>6.990909</td>\n",
       "      <td>1</td>\n",
       "      <td>0</td>\n",
       "      <td>0</td>\n",
       "      <td>6.5</td>\n",
       "    </tr>\n",
       "    <tr>\n",
       "      <th>5630</th>\n",
       "      <td>Azpilicueta</td>\n",
       "      <td>D</td>\n",
       "      <td>Right</td>\n",
       "      <td>178</td>\n",
       "      <td>32.62</td>\n",
       "      <td>83</td>\n",
       "      <td>83</td>\n",
       "      <td>0</td>\n",
       "      <td>0</td>\n",
       "      <td>14.0</td>\n",
       "      <td>6.30</td>\n",
       "      <td>6.800</td>\n",
       "      <td>6.883333</td>\n",
       "      <td>6.936364</td>\n",
       "      <td>1</td>\n",
       "      <td>0</td>\n",
       "      <td>1</td>\n",
       "      <td>6.1</td>\n",
       "    </tr>\n",
       "  </tbody>\n",
       "</table>\n",
       "<p>5631 rows × 18 columns</p>\n",
       "</div>"
      ],
      "text/plain": [
       "      player_name player_position player_foot  player_height    age  \\\n",
       "0           Messi               F        Left            169  28.18   \n",
       "1           Messi               F        Left            169  28.20   \n",
       "2           Messi               F        Left            169  28.24   \n",
       "3           Messi               F        Left            169  28.26   \n",
       "4           Messi               F        Left            169  28.27   \n",
       "...           ...             ...         ...            ...    ...   \n",
       "5626  Azpilicueta               D       Right            178  32.41   \n",
       "5627  Azpilicueta               D       Right            178  32.41   \n",
       "5628  Azpilicueta               D       Right            178  32.43   \n",
       "5629  Azpilicueta               D       Right            178  32.55   \n",
       "5630  Azpilicueta               D       Right            178  32.62   \n",
       "\n",
       "      fifa_rating  fifa_potential  after_injury  injury_days  rest_days  \\\n",
       "0              94              95             0            0       78.0   \n",
       "1              94              95             0            0        6.0   \n",
       "2              94              95             0            0       14.0   \n",
       "3              94              95             0            0        4.0   \n",
       "4              94              95             0            0        3.0   \n",
       "...           ...             ...           ...          ...        ...   \n",
       "5626           83              83             0            0        3.0   \n",
       "5627           83              83             0            0        3.0   \n",
       "5628           83              83             0            0        5.0   \n",
       "5629           83              83             1            7       16.0   \n",
       "5630           83              83             0            0       14.0   \n",
       "\n",
       "      form_last1  form_last3  form_last5  form_last10  current_team_category  \\\n",
       "0            NaN         NaN         NaN          NaN                      1   \n",
       "1           8.60         NaN         NaN          NaN                      1   \n",
       "2           9.00         NaN         NaN          NaN                      1   \n",
       "3           9.30       8.950         NaN          NaN                      1   \n",
       "4           9.55       9.275         NaN          NaN                      1   \n",
       "...          ...         ...         ...          ...                    ...   \n",
       "5626        7.05       7.175    7.066667     7.018182                      1   \n",
       "5627        7.20       7.175    7.066667     7.036364                      1   \n",
       "5628        7.30       7.175    7.216667     7.081818                      1   \n",
       "5629        6.95       7.075    7.100000     6.990909                      1   \n",
       "5630        6.30       6.800    6.883333     6.936364                      1   \n",
       "\n",
       "      opponent_category  home_fixture  Performance  \n",
       "0                     0             0          7.8  \n",
       "1                     0             1          9.4  \n",
       "2                     1             0          8.6  \n",
       "3                     0             1         10.0  \n",
       "4                     0             0          9.1  \n",
       "...                 ...           ...          ...  \n",
       "5626                  1             0          7.2  \n",
       "5627                  0             0          7.2  \n",
       "5628                  1             1          7.4  \n",
       "5629                  0             0          6.5  \n",
       "5630                  0             1          6.1  \n",
       "\n",
       "[5631 rows x 18 columns]"
      ]
     },
     "execution_count": 2,
     "metadata": {},
     "output_type": "execute_result"
    }
   ],
   "source": [
    "LEAGUE_DATAPATH = '/.../data/all_players_league_match_info.csv'\n",
    "\n",
    "league_data = pd.read_csv(LEAGUE_DATAPATH, parse_dates=['startTimestamp', 'player_birth', 'previous_date'])\n",
    "league_data = league_data[['player_name','player_position','player_foot','player_height','age',\\\n",
    "    'fifa_rating','fifa_potential','after_injury','injury_days','rest_days','form_last1','form_last3','form_last5','form_last10',\\\n",
    "    'current_team_category','opponent_category','home_fixture',\\\n",
    "    'Performance']]\n",
    "league_data"
   ]
  },
  {
   "cell_type": "code",
   "execution_count": 3,
   "metadata": {},
   "outputs": [
    {
     "data": {
      "text/plain": [
       "300"
      ]
     },
     "execution_count": 3,
     "metadata": {},
     "output_type": "execute_result"
    },
    {
     "data": {
      "text/plain": [
       "0"
      ]
     },
     "execution_count": 3,
     "metadata": {},
     "output_type": "execute_result"
    }
   ],
   "source": [
    "league_data.isnull().any(axis = 1).sum()\n",
    "# league_data\n",
    "# league_data.iloc[220:240]\n",
    "# league_data.dropna(how='any', inplace=True)\n",
    "league_data['form_last1'] = league_data['form_last1'].fillna(league_data.groupby('player_name')['form_last1'].transform('mean'))\n",
    "league_data['form_last3'] = league_data['form_last3'].fillna(league_data.groupby('player_name')['form_last3'].transform('mean'))\n",
    "league_data['form_last5'] = league_data['form_last5'].fillna(league_data.groupby('player_name')['form_last5'].transform('mean'))\n",
    "league_data['form_last10'] = league_data['form_last10'].fillna(league_data.groupby('player_name')['form_last10'].transform('mean'))\n",
    "league_data.isnull().any(axis = 1).sum()\n",
    "# league_data\n",
    "# league_data.iloc[220:240]"
   ]
  },
  {
   "cell_type": "markdown",
   "metadata": {},
   "source": [
    "### Fixed Effects Model on Player Name"
   ]
  },
  {
   "cell_type": "code",
   "execution_count": 4,
   "metadata": {},
   "outputs": [
    {
     "data": {
      "text/html": [
       "<div>\n",
       "<style scoped>\n",
       "    .dataframe tbody tr th:only-of-type {\n",
       "        vertical-align: middle;\n",
       "    }\n",
       "\n",
       "    .dataframe tbody tr th {\n",
       "        vertical-align: top;\n",
       "    }\n",
       "\n",
       "    .dataframe thead th {\n",
       "        text-align: right;\n",
       "    }\n",
       "</style>\n",
       "<table border=\"1\" class=\"dataframe\">\n",
       "  <thead>\n",
       "    <tr style=\"text-align: right;\">\n",
       "      <th></th>\n",
       "      <th>player_height</th>\n",
       "      <th>age</th>\n",
       "      <th>fifa_rating</th>\n",
       "      <th>fifa_potential</th>\n",
       "      <th>after_injury</th>\n",
       "      <th>injury_days</th>\n",
       "      <th>rest_days</th>\n",
       "      <th>form_last1</th>\n",
       "      <th>form_last3</th>\n",
       "      <th>form_last5</th>\n",
       "      <th>form_last10</th>\n",
       "      <th>current_team_category</th>\n",
       "      <th>opponent_category</th>\n",
       "      <th>home_fixture</th>\n",
       "      <th>Performance</th>\n",
       "      <th>player_position_D</th>\n",
       "      <th>player_position_F</th>\n",
       "      <th>player_position_G</th>\n",
       "      <th>player_position_M</th>\n",
       "      <th>player_foot_Left</th>\n",
       "      <th>player_foot_Right</th>\n",
       "    </tr>\n",
       "  </thead>\n",
       "  <tbody>\n",
       "    <tr>\n",
       "      <th>0</th>\n",
       "      <td>169</td>\n",
       "      <td>28.18</td>\n",
       "      <td>94</td>\n",
       "      <td>95</td>\n",
       "      <td>0</td>\n",
       "      <td>0</td>\n",
       "      <td>78.0</td>\n",
       "      <td>8.347098</td>\n",
       "      <td>8.346847</td>\n",
       "      <td>8.345455</td>\n",
       "      <td>8.349937</td>\n",
       "      <td>1</td>\n",
       "      <td>0</td>\n",
       "      <td>0</td>\n",
       "      <td>7.8</td>\n",
       "      <td>0</td>\n",
       "      <td>1</td>\n",
       "      <td>0</td>\n",
       "      <td>0</td>\n",
       "      <td>1</td>\n",
       "      <td>0</td>\n",
       "    </tr>\n",
       "    <tr>\n",
       "      <th>1</th>\n",
       "      <td>169</td>\n",
       "      <td>28.20</td>\n",
       "      <td>94</td>\n",
       "      <td>95</td>\n",
       "      <td>0</td>\n",
       "      <td>0</td>\n",
       "      <td>6.0</td>\n",
       "      <td>8.600000</td>\n",
       "      <td>8.346847</td>\n",
       "      <td>8.345455</td>\n",
       "      <td>8.349937</td>\n",
       "      <td>1</td>\n",
       "      <td>0</td>\n",
       "      <td>1</td>\n",
       "      <td>9.4</td>\n",
       "      <td>0</td>\n",
       "      <td>1</td>\n",
       "      <td>0</td>\n",
       "      <td>0</td>\n",
       "      <td>1</td>\n",
       "      <td>0</td>\n",
       "    </tr>\n",
       "    <tr>\n",
       "      <th>2</th>\n",
       "      <td>169</td>\n",
       "      <td>28.24</td>\n",
       "      <td>94</td>\n",
       "      <td>95</td>\n",
       "      <td>0</td>\n",
       "      <td>0</td>\n",
       "      <td>14.0</td>\n",
       "      <td>9.000000</td>\n",
       "      <td>8.346847</td>\n",
       "      <td>8.345455</td>\n",
       "      <td>8.349937</td>\n",
       "      <td>1</td>\n",
       "      <td>1</td>\n",
       "      <td>0</td>\n",
       "      <td>8.6</td>\n",
       "      <td>0</td>\n",
       "      <td>1</td>\n",
       "      <td>0</td>\n",
       "      <td>0</td>\n",
       "      <td>1</td>\n",
       "      <td>0</td>\n",
       "    </tr>\n",
       "    <tr>\n",
       "      <th>3</th>\n",
       "      <td>169</td>\n",
       "      <td>28.26</td>\n",
       "      <td>94</td>\n",
       "      <td>95</td>\n",
       "      <td>0</td>\n",
       "      <td>0</td>\n",
       "      <td>4.0</td>\n",
       "      <td>9.300000</td>\n",
       "      <td>8.950000</td>\n",
       "      <td>8.345455</td>\n",
       "      <td>8.349937</td>\n",
       "      <td>1</td>\n",
       "      <td>0</td>\n",
       "      <td>1</td>\n",
       "      <td>10.0</td>\n",
       "      <td>0</td>\n",
       "      <td>1</td>\n",
       "      <td>0</td>\n",
       "      <td>0</td>\n",
       "      <td>1</td>\n",
       "      <td>0</td>\n",
       "    </tr>\n",
       "    <tr>\n",
       "      <th>4</th>\n",
       "      <td>169</td>\n",
       "      <td>28.27</td>\n",
       "      <td>94</td>\n",
       "      <td>95</td>\n",
       "      <td>0</td>\n",
       "      <td>0</td>\n",
       "      <td>3.0</td>\n",
       "      <td>9.550000</td>\n",
       "      <td>9.275000</td>\n",
       "      <td>8.345455</td>\n",
       "      <td>8.349937</td>\n",
       "      <td>1</td>\n",
       "      <td>0</td>\n",
       "      <td>0</td>\n",
       "      <td>9.1</td>\n",
       "      <td>0</td>\n",
       "      <td>1</td>\n",
       "      <td>0</td>\n",
       "      <td>0</td>\n",
       "      <td>1</td>\n",
       "      <td>0</td>\n",
       "    </tr>\n",
       "    <tr>\n",
       "      <th>...</th>\n",
       "      <td>...</td>\n",
       "      <td>...</td>\n",
       "      <td>...</td>\n",
       "      <td>...</td>\n",
       "      <td>...</td>\n",
       "      <td>...</td>\n",
       "      <td>...</td>\n",
       "      <td>...</td>\n",
       "      <td>...</td>\n",
       "      <td>...</td>\n",
       "      <td>...</td>\n",
       "      <td>...</td>\n",
       "      <td>...</td>\n",
       "      <td>...</td>\n",
       "      <td>...</td>\n",
       "      <td>...</td>\n",
       "      <td>...</td>\n",
       "      <td>...</td>\n",
       "      <td>...</td>\n",
       "      <td>...</td>\n",
       "      <td>...</td>\n",
       "    </tr>\n",
       "    <tr>\n",
       "      <th>5626</th>\n",
       "      <td>178</td>\n",
       "      <td>32.41</td>\n",
       "      <td>83</td>\n",
       "      <td>83</td>\n",
       "      <td>0</td>\n",
       "      <td>0</td>\n",
       "      <td>3.0</td>\n",
       "      <td>7.050000</td>\n",
       "      <td>7.175000</td>\n",
       "      <td>7.066667</td>\n",
       "      <td>7.018182</td>\n",
       "      <td>1</td>\n",
       "      <td>1</td>\n",
       "      <td>0</td>\n",
       "      <td>7.2</td>\n",
       "      <td>1</td>\n",
       "      <td>0</td>\n",
       "      <td>0</td>\n",
       "      <td>0</td>\n",
       "      <td>0</td>\n",
       "      <td>1</td>\n",
       "    </tr>\n",
       "    <tr>\n",
       "      <th>5627</th>\n",
       "      <td>178</td>\n",
       "      <td>32.41</td>\n",
       "      <td>83</td>\n",
       "      <td>83</td>\n",
       "      <td>0</td>\n",
       "      <td>0</td>\n",
       "      <td>3.0</td>\n",
       "      <td>7.200000</td>\n",
       "      <td>7.175000</td>\n",
       "      <td>7.066667</td>\n",
       "      <td>7.036364</td>\n",
       "      <td>1</td>\n",
       "      <td>0</td>\n",
       "      <td>0</td>\n",
       "      <td>7.2</td>\n",
       "      <td>1</td>\n",
       "      <td>0</td>\n",
       "      <td>0</td>\n",
       "      <td>0</td>\n",
       "      <td>0</td>\n",
       "      <td>1</td>\n",
       "    </tr>\n",
       "    <tr>\n",
       "      <th>5628</th>\n",
       "      <td>178</td>\n",
       "      <td>32.43</td>\n",
       "      <td>83</td>\n",
       "      <td>83</td>\n",
       "      <td>0</td>\n",
       "      <td>0</td>\n",
       "      <td>5.0</td>\n",
       "      <td>7.300000</td>\n",
       "      <td>7.175000</td>\n",
       "      <td>7.216667</td>\n",
       "      <td>7.081818</td>\n",
       "      <td>1</td>\n",
       "      <td>1</td>\n",
       "      <td>1</td>\n",
       "      <td>7.4</td>\n",
       "      <td>1</td>\n",
       "      <td>0</td>\n",
       "      <td>0</td>\n",
       "      <td>0</td>\n",
       "      <td>0</td>\n",
       "      <td>1</td>\n",
       "    </tr>\n",
       "    <tr>\n",
       "      <th>5629</th>\n",
       "      <td>178</td>\n",
       "      <td>32.55</td>\n",
       "      <td>83</td>\n",
       "      <td>83</td>\n",
       "      <td>1</td>\n",
       "      <td>7</td>\n",
       "      <td>16.0</td>\n",
       "      <td>6.950000</td>\n",
       "      <td>7.075000</td>\n",
       "      <td>7.100000</td>\n",
       "      <td>6.990909</td>\n",
       "      <td>1</td>\n",
       "      <td>0</td>\n",
       "      <td>0</td>\n",
       "      <td>6.5</td>\n",
       "      <td>1</td>\n",
       "      <td>0</td>\n",
       "      <td>0</td>\n",
       "      <td>0</td>\n",
       "      <td>0</td>\n",
       "      <td>1</td>\n",
       "    </tr>\n",
       "    <tr>\n",
       "      <th>5630</th>\n",
       "      <td>178</td>\n",
       "      <td>32.62</td>\n",
       "      <td>83</td>\n",
       "      <td>83</td>\n",
       "      <td>0</td>\n",
       "      <td>0</td>\n",
       "      <td>14.0</td>\n",
       "      <td>6.300000</td>\n",
       "      <td>6.800000</td>\n",
       "      <td>6.883333</td>\n",
       "      <td>6.936364</td>\n",
       "      <td>1</td>\n",
       "      <td>0</td>\n",
       "      <td>1</td>\n",
       "      <td>6.1</td>\n",
       "      <td>1</td>\n",
       "      <td>0</td>\n",
       "      <td>0</td>\n",
       "      <td>0</td>\n",
       "      <td>0</td>\n",
       "      <td>1</td>\n",
       "    </tr>\n",
       "  </tbody>\n",
       "</table>\n",
       "<p>5631 rows × 21 columns</p>\n",
       "</div>"
      ],
      "text/plain": [
       "      player_height    age  fifa_rating  fifa_potential  after_injury  \\\n",
       "0               169  28.18           94              95             0   \n",
       "1               169  28.20           94              95             0   \n",
       "2               169  28.24           94              95             0   \n",
       "3               169  28.26           94              95             0   \n",
       "4               169  28.27           94              95             0   \n",
       "...             ...    ...          ...             ...           ...   \n",
       "5626            178  32.41           83              83             0   \n",
       "5627            178  32.41           83              83             0   \n",
       "5628            178  32.43           83              83             0   \n",
       "5629            178  32.55           83              83             1   \n",
       "5630            178  32.62           83              83             0   \n",
       "\n",
       "      injury_days  rest_days  form_last1  form_last3  form_last5  form_last10  \\\n",
       "0               0       78.0    8.347098    8.346847    8.345455     8.349937   \n",
       "1               0        6.0    8.600000    8.346847    8.345455     8.349937   \n",
       "2               0       14.0    9.000000    8.346847    8.345455     8.349937   \n",
       "3               0        4.0    9.300000    8.950000    8.345455     8.349937   \n",
       "4               0        3.0    9.550000    9.275000    8.345455     8.349937   \n",
       "...           ...        ...         ...         ...         ...          ...   \n",
       "5626            0        3.0    7.050000    7.175000    7.066667     7.018182   \n",
       "5627            0        3.0    7.200000    7.175000    7.066667     7.036364   \n",
       "5628            0        5.0    7.300000    7.175000    7.216667     7.081818   \n",
       "5629            7       16.0    6.950000    7.075000    7.100000     6.990909   \n",
       "5630            0       14.0    6.300000    6.800000    6.883333     6.936364   \n",
       "\n",
       "      current_team_category  opponent_category  home_fixture  Performance  \\\n",
       "0                         1                  0             0          7.8   \n",
       "1                         1                  0             1          9.4   \n",
       "2                         1                  1             0          8.6   \n",
       "3                         1                  0             1         10.0   \n",
       "4                         1                  0             0          9.1   \n",
       "...                     ...                ...           ...          ...   \n",
       "5626                      1                  1             0          7.2   \n",
       "5627                      1                  0             0          7.2   \n",
       "5628                      1                  1             1          7.4   \n",
       "5629                      1                  0             0          6.5   \n",
       "5630                      1                  0             1          6.1   \n",
       "\n",
       "      player_position_D  player_position_F  player_position_G  \\\n",
       "0                     0                  1                  0   \n",
       "1                     0                  1                  0   \n",
       "2                     0                  1                  0   \n",
       "3                     0                  1                  0   \n",
       "4                     0                  1                  0   \n",
       "...                 ...                ...                ...   \n",
       "5626                  1                  0                  0   \n",
       "5627                  1                  0                  0   \n",
       "5628                  1                  0                  0   \n",
       "5629                  1                  0                  0   \n",
       "5630                  1                  0                  0   \n",
       "\n",
       "      player_position_M  player_foot_Left  player_foot_Right  \n",
       "0                     0                 1                  0  \n",
       "1                     0                 1                  0  \n",
       "2                     0                 1                  0  \n",
       "3                     0                 1                  0  \n",
       "4                     0                 1                  0  \n",
       "...                 ...               ...                ...  \n",
       "5626                  0                 0                  1  \n",
       "5627                  0                 0                  1  \n",
       "5628                  0                 0                  1  \n",
       "5629                  0                 0                  1  \n",
       "5630                  0                 0                  1  \n",
       "\n",
       "[5631 rows x 21 columns]"
      ]
     },
     "execution_count": 4,
     "metadata": {},
     "output_type": "execute_result"
    }
   ],
   "source": [
    "league_data = pd.get_dummies(league_data, prefix=['player_position', 'player_foot'], columns=['player_position', 'player_foot'])\n",
    "league_data.drop(labels=['player_name'], axis=1, inplace=True)\n",
    "# league_data = pd.get_dummies(league_data, prefix=['player_name'], columns=['player_name'])\n",
    "# league_data = pd.get_dummies(league_data, prefix=['injury_type'], columns=['injury_type'])\n",
    "league_data"
   ]
  },
  {
   "cell_type": "markdown",
   "metadata": {},
   "source": [
    "## Begin"
   ]
  },
  {
   "cell_type": "markdown",
   "metadata": {},
   "source": [
    "#### Helper functions"
   ]
  },
  {
   "cell_type": "code",
   "execution_count": 5,
   "metadata": {},
   "outputs": [],
   "source": [
    "def get_metrics(y_test, y_pred):\n",
    "    r2 = r2_score(y_test,y_pred)\n",
    "    mse = mean_squared_error(y_test,y_pred)\n",
    "    rmse = mean_squared_error(y_test,y_pred, squared=False)\n",
    "    mae = mean_absolute_error(y_test,y_pred)\n",
    "    # correlation_energy, p_energy = spearmanr(y_test, y_pred)\n",
    "    return r2, mse, rmse, mae"
   ]
  },
  {
   "cell_type": "code",
   "execution_count": 6,
   "metadata": {},
   "outputs": [],
   "source": [
    "def print_metrics(r2, mse, rmse, mae):\n",
    "    print(f'R2 score: {r2:.5f}')\n",
    "    print(f'MSE: {mse:.5f}')\n",
    "    print(f'RMSE: {rmse:.5f}')\n",
    "    print(f'MAE: {mae:.5f}')\n",
    "    # correlation_energy, p_energy = spearmanr(y_test, y_pred)\n",
    "    # print(f'Correlation: {correlation_energy:.5f}\\n' + f'pvalue: {p_energy:.5f}')"
   ]
  },
  {
   "cell_type": "markdown",
   "metadata": {},
   "source": [
    "### Split"
   ]
  },
  {
   "cell_type": "code",
   "execution_count": 7,
   "metadata": {},
   "outputs": [
    {
     "data": {
      "text/plain": [
       "(5067, 20)"
      ]
     },
     "execution_count": 7,
     "metadata": {},
     "output_type": "execute_result"
    },
    {
     "data": {
      "text/plain": [
       "(564, 20)"
      ]
     },
     "execution_count": 7,
     "metadata": {},
     "output_type": "execute_result"
    },
    {
     "data": {
      "text/plain": [
       "(5067,)"
      ]
     },
     "execution_count": 7,
     "metadata": {},
     "output_type": "execute_result"
    },
    {
     "data": {
      "text/plain": [
       "(564,)"
      ]
     },
     "execution_count": 7,
     "metadata": {},
     "output_type": "execute_result"
    }
   ],
   "source": [
    "# Splitting the dataset into the training set and test set\n",
    "# BIG\n",
    "x_train, x_test, y_train, y_test = train_test_split(league_data.loc[:, league_data.columns != 'Performance'], league_data['Performance'], test_size=0.1, random_state=42)\n",
    "x_train.shape\n",
    "x_test.shape\n",
    "y_train.shape\n",
    "y_test.shape\n",
    "\n",
    "feature_names = league_data.loc[:, league_data.columns != 'Performance'].columns.values"
   ]
  },
  {
   "cell_type": "markdown",
   "metadata": {},
   "source": [
    "### Scaling"
   ]
  },
  {
   "cell_type": "code",
   "execution_count": 8,
   "metadata": {},
   "outputs": [],
   "source": [
    "scaling_input = 1\n",
    "if scaling_input:\n",
    "    # print('Before scaling: ', x_train.mean())\n",
    "    sc_x = StandardScaler()\n",
    "    x_train = pd.DataFrame(sc_x.fit_transform(x_train), index=x_train.index, columns = x_train.columns)\n",
    "    # print(sc.mean_)\n",
    "    # print(sc.scale_)\n",
    "    x_test = pd.DataFrame(sc_x.transform(x_test), index=x_test.index, columns = x_test.columns)\n",
    "    # print('After scaling: ', x_train.mean())\n",
    "    # print(sc.mean_)\n",
    "    # print(sc.scale_)\n",
    "else:\n",
    "    pass\n",
    "\n",
    "scaling_output = 0\n",
    "if scaling_output:\n",
    "    # print('Before scaling: ', y_test.mean())\n",
    "    sc_y = StandardScaler()\n",
    "    # y_train.values.reshape(-1,1).shape\n",
    "    # y_test.values.reshape(-1,1).shape\n",
    "    y_train = pd.DataFrame(y_train)\n",
    "    y_train = pd.DataFrame(sc_y.fit_transform(y_train), index=y_train.index, columns = y_train.columns)\n",
    "    # # print(sc.mean_)\n",
    "    # # print(sc.scale_)\n",
    "    y_test = pd.DataFrame(y_test)\n",
    "    y_test = pd.DataFrame(sc_y.transform(y_test), index=y_test.index, columns = y_test.columns)\n",
    "    # print('After scaling: ', y_test.mean())\n",
    "    # print(sc.mean_)\n",
    "    # print(sc.scale_)"
   ]
  },
  {
   "cell_type": "markdown",
   "metadata": {},
   "source": [
    "### Linear Regression"
   ]
  },
  {
   "cell_type": "code",
   "execution_count": 9,
   "metadata": {},
   "outputs": [],
   "source": [
    "linreg_model = LinearRegression().fit(x_train, y_train)\n",
    "y_pred = linreg_model.predict(x_test)\n",
    "if scaling_output==1:\n",
    "    y_test_lr = sc_y.inverse_transform(y_test)\n",
    "    y_pred_lr = sc_y.inverse_transform(y_pred.reshape(-1, 1))\n",
    "else:\n",
    "    y_test_lr = y_test\n",
    "    y_pred_lr = y_pred"
   ]
  },
  {
   "cell_type": "code",
   "execution_count": 10,
   "metadata": {},
   "outputs": [
    {
     "name": "stdout",
     "output_type": "stream",
     "text": [
      "R2 score: 0.60297\n",
      "MSE: 0.24908\n",
      "RMSE: 0.49908\n",
      "MAE: 0.38357\n"
     ]
    }
   ],
   "source": [
    "# Calculating R2 score, rmse and mae\n",
    "linreg_r2_before, linreg_mse_before, linreg_rmse_before, linreg_mae_before = get_metrics(y_test_lr, y_pred_lr)\n",
    "print_metrics(linreg_r2_before, linreg_mse_before, linreg_rmse_before, linreg_mae_before)"
   ]
  },
  {
   "cell_type": "code",
   "execution_count": 11,
   "metadata": {},
   "outputs": [
    {
     "data": {
      "image/png": "[encoded data removed]",
      "text/plain": [
       "<Figure size 1800x720 with 1 Axes>"
      ]
     },
     "metadata": {
      "needs_background": "light"
     },
     "output_type": "display_data"
    }
   ],
   "source": [
    "plt.figure(figsize=(25, 10));\n",
    "plt.scatter(np.array(range(len(y_test_lr))), y_test_lr);\n",
    "plt.scatter(np.array(range(len(y_pred_lr))), y_pred_lr, c ='r');"
   ]
  },
  {
   "cell_type": "code",
   "execution_count": 12,
   "metadata": {},
   "outputs": [],
   "source": [
    "# importance = np.abs(linreg_model.coef_)\n",
    "# plt.figure(figsize=(15, 7));\n",
    "# plt.bar(height=importance, x=feature_names);\n",
    "# plt.xticks(rotation = 90);\n",
    "# plt.title(\"Feature importances via coefficients on Linear Regression\");\n",
    "# plt.show();\n",
    "# plt.close();"
   ]
  },
  {
   "cell_type": "markdown",
   "metadata": {},
   "source": [
    "### Support Vector Regression"
   ]
  },
  {
   "cell_type": "code",
   "execution_count": 13,
   "metadata": {},
   "outputs": [
    {
     "data": {
      "text/plain": [
       "GridSearchCV(cv=5, estimator=SVR(), n_jobs=-1,\n",
       "             param_grid={'C': [0.5, 0.7, 1], 'epsilon': [0.07, 0.1, 1.0],\n",
       "                         'kernel': ['linear', 'poly', 'rbf', 'sigmoid']})"
      ]
     },
     "execution_count": 13,
     "metadata": {},
     "output_type": "execute_result"
    }
   ],
   "source": [
    "svr_model = SVR()\n",
    "grid = dict()\n",
    "grid['C'] = [0.5, 0.7, 1]\n",
    "grid['epsilon'] = [7e-2, 1e-1, 1.0]\n",
    "grid['kernel'] = ['linear', 'poly', 'rbf', 'sigmoid']\n",
    "search = GridSearchCV(svr_model, grid, cv=5, n_jobs=-1)\n",
    "start = time.time()\n",
    "search.fit(x_train, y_train)\n",
    "# grid_svr_elapsedTime = time.time()-start\n",
    "# print(\"Tuning time: %.5f seconds\" % grid_svr_elapsedTime)\n",
    "# print(search.best_params_)\n",
    "\n",
    "svr_model = SVR(kernel=search.best_params_['kernel'], C=search.best_params_['C'], \n",
    "            epsilon=search.best_params_['epsilon']).fit(x_train, y_train)\n",
    "y_pred = svr_model.predict(x_test)\n",
    "if scaling_output==1:\n",
    "    y_test_svr = sc_y.inverse_transform(y_test)\n",
    "    y_pred_svr = sc_y.inverse_transform(y_pred.reshape(-1, 1))\n",
    "else:\n",
    "    y_test_svr = y_test\n",
    "    y_pred_svr = y_pred"
   ]
  },
  {
   "cell_type": "code",
   "execution_count": 14,
   "metadata": {},
   "outputs": [
    {
     "name": "stdout",
     "output_type": "stream",
     "text": [
      "R2 score: 0.60277\n",
      "MSE: 0.24920\n",
      "RMSE: 0.49920\n",
      "MAE: 0.38319\n"
     ]
    }
   ],
   "source": [
    "# Calculating R2 score, rmse and mae\n",
    "svr_r2_before, svr_mse_before, svr_rmse_before, svr_mae_before = get_metrics(y_test_svr, y_pred_svr)\n",
    "print_metrics(svr_r2_before, svr_mse_before, svr_rmse_before, svr_mae_before)"
   ]
  },
  {
   "cell_type": "code",
   "execution_count": 15,
   "metadata": {},
   "outputs": [
    {
     "data": {
      "image/png": "[encoded data removed]",
      "text/plain": [
       "<Figure size 1080x504 with 1 Axes>"
      ]
     },
     "metadata": {
      "needs_background": "light"
     },
     "output_type": "display_data"
    }
   ],
   "source": [
    "importance = np.abs(svr_model.coef_).flatten()\n",
    "plt.figure(figsize=(15, 7));\n",
    "plt.bar(height=importance, x=feature_names);\n",
    "plt.xticks(rotation = 90);\n",
    "plt.title(\"Feature importances via coefficients on SVM Regression\");\n",
    "plt.show();"
   ]
  },
  {
   "cell_type": "markdown",
   "metadata": {},
   "source": [
    "### Random Forest"
   ]
  },
  {
   "cell_type": "code",
   "execution_count": 16,
   "metadata": {},
   "outputs": [
    {
     "data": {
      "text/plain": [
       "GridSearchCV(cv=5, estimator=RandomForestRegressor(), n_jobs=-1,\n",
       "             param_grid={'max_features': ['auto', 'sqrt', 'log2'],\n",
       "                         'min_samples_leaf': [1, 8, 15],\n",
       "                         'min_samples_split': [2, 8, 14],\n",
       "                         'n_estimators': [60, 80, 100, 120]})"
      ]
     },
     "execution_count": 16,
     "metadata": {},
     "output_type": "execute_result"
    }
   ],
   "source": [
    "rf_model = RandomForestRegressor()\n",
    "grid = dict()\n",
    "grid['max_features'] = ['auto', 'sqrt', 'log2']\n",
    "grid['min_samples_leaf'] = [1, 8, 15]\n",
    "grid['min_samples_split'] = [2, 8, 14]\n",
    "grid['n_estimators'] = [60, 80, 100, 120]\n",
    "search = GridSearchCV(rf_model, grid, cv=5, n_jobs=-1)\n",
    "start = time.time()\n",
    "search.fit(x_train, y_train)\n",
    "# grid_rf_elapsedTime = time.time()-start\n",
    "# print(\"Tuning time: %.5f seconds\" % grid_rf_elapsedTime)\n",
    "# print(search.best_params_)\n",
    "\n",
    "rf_model = RandomForestRegressor(max_features=search.best_params_['max_features'], min_samples_leaf=search.best_params_['min_samples_leaf'], \n",
    "            min_samples_split=search.best_params_['min_samples_split'],n_estimators=search.best_params_['n_estimators']).fit(x_train, y_train)\n",
    "y_pred = rf_model.predict(x_test)\n",
    "if scaling_output==1:\n",
    "    y_test_rf = sc_y.inverse_transform(y_test)\n",
    "    y_pred_rf = sc_y.inverse_transform(y_pred.reshape(-1, 1))\n",
    "else:\n",
    "    y_test_rf = y_test\n",
    "    y_pred_rf = y_pred"
   ]
  },
  {
   "cell_type": "code",
   "execution_count": 17,
   "metadata": {},
   "outputs": [
    {
     "name": "stdout",
     "output_type": "stream",
     "text": [
      "R2 score: 0.58955\n",
      "MSE: 0.25750\n",
      "RMSE: 0.50744\n",
      "MAE: 0.39233\n"
     ]
    }
   ],
   "source": [
    "# Calculating R2 score, rmse and mae\n",
    "rf_r2_before, rf_mse_before, rf_rmse_before, rf_mae_before = get_metrics(y_test_rf, y_pred_rf)\n",
    "print_metrics(rf_r2_before, rf_mse_before, rf_rmse_before, rf_mae_before)"
   ]
  },
  {
   "cell_type": "code",
   "execution_count": 19,
   "metadata": {},
   "outputs": [
    {
     "data": {
      "image/png": "[encoded data removed]",
      "text/plain": [
       "<Figure size 1080x504 with 1 Axes>"
      ]
     },
     "metadata": {
      "needs_background": "light"
     },
     "output_type": "display_data"
    }
   ],
   "source": [
    "importance = np.abs(rf_model.feature_importances_).flatten()\n",
    "plt.figure(figsize=(15, 7));\n",
    "plt.bar(height=importance, x=feature_names);\n",
    "plt.xticks(rotation = 90);\n",
    "plt.title(\"Feature importances via coefficients on SVM Regression\");\n",
    "plt.show();"
   ]
  },
  {
   "cell_type": "markdown",
   "metadata": {},
   "source": [
    "### XGB Regression"
   ]
  },
  {
   "cell_type": "code",
   "execution_count": 20,
   "metadata": {},
   "outputs": [
    {
     "data": {
      "text/plain": [
       "GridSearchCV(cv=5,\n",
       "             estimator=XGBRegressor(base_score=None, booster=None,\n",
       "                                    callbacks=None, colsample_bylevel=None,\n",
       "                                    colsample_bynode=None,\n",
       "                                    colsample_bytree=None,\n",
       "                                    early_stopping_rounds=None,\n",
       "                                    enable_categorical=False, eval_metric=None,\n",
       "                                    gamma=None, gpu_id=None, grow_policy=None,\n",
       "                                    importance_type=None,\n",
       "                                    interaction_constraints=None,\n",
       "                                    learning_rate=None, max_bin=None,\n",
       "                                    max_cat...\n",
       "                                    max_depth=None, max_leaves=None,\n",
       "                                    min_child_weight=None, missing=nan,\n",
       "                                    monotone_constraints=None, n_estimators=100,\n",
       "                                    n_jobs=None, num_parallel_tree=None,\n",
       "                                    predictor=None, random_state=None,\n",
       "                                    reg_alpha=None, reg_lambda=None, ...),\n",
       "             n_jobs=-1,\n",
       "             param_grid={'colsample_bytree': [0.5, 1],\n",
       "                         'learning_rate': [0.3, 0.09, 0.03],\n",
       "                         'max_depth': [5, 6, 7, 8], 'min_child_weight': [1, 5],\n",
       "                         'subsample': [0.5, 1]})"
      ]
     },
     "execution_count": 20,
     "metadata": {},
     "output_type": "execute_result"
    }
   ],
   "source": [
    "xgb_model = xgboost.XGBRegressor()\n",
    "grid = {\"subsample\":[0.5, 1],\n",
    "        \"colsample_bytree\":[0.5, 1],\n",
    "        \"max_depth\":[5, 6, 7, 8],\n",
    "        \"min_child_weight\":[1,5],\n",
    "        \"learning_rate\":[0.3, 0.09, 0.03]}\n",
    "search = GridSearchCV(xgb_model, grid, cv=5, n_jobs=-1)\n",
    "start = time.time()\n",
    "search.fit(x_train, y_train)\n",
    "# grid_xgb_elapsedTime = time.time()-start\n",
    "# print(\"Tuning time: %.5f seconds\" % grid_xgb_elapsedTime)\n",
    "# print(search.best_params_)\n",
    "\n",
    "xgb_model = xgboost.XGBRegressor(subsample=search.best_params_['subsample'], colsample_bytree=search.best_params_['colsample_bytree'], \n",
    "        max_depth=search.best_params_['max_depth'], min_child_weight=search.best_params_['min_child_weight'],\n",
    "        learning_rate=search.best_params_['learning_rate']).fit(x_train, y_train)\n",
    "y_pred = xgb_model.predict(x_test)\n",
    "\n",
    "if scaling_output==1:\n",
    "    y_test_xgb = sc_y.inverse_transform(y_test)\n",
    "    y_pred_xgb = sc_y.inverse_transform(y_pred.reshape(-1,1))\n",
    "else:\n",
    "    y_test_xgb = y_test\n",
    "    y_pred_xgb = y_pred"
   ]
  },
  {
   "cell_type": "code",
   "execution_count": 21,
   "metadata": {},
   "outputs": [
    {
     "name": "stdout",
     "output_type": "stream",
     "text": [
      "R2 score: 0.58301\n",
      "MSE: 0.26160\n",
      "RMSE: 0.51147\n",
      "MAE: 0.39259\n"
     ]
    }
   ],
   "source": [
    "# Calculating R2 score, rmse and mae\n",
    "xgb_r2_before, xgb_mse_before, xgb_rmse_before, xgb_mae_before = get_metrics(y_test_xgb, y_pred_xgb)\n",
    "print_metrics(xgb_r2_before, xgb_mse_before, xgb_rmse_before, xgb_mae_before)"
   ]
  },
  {
   "cell_type": "code",
   "execution_count": 22,
   "metadata": {},
   "outputs": [
    {
     "data": {
      "image/png": "[encoded data removed]",
      "text/plain": [
       "<Figure size 1080x504 with 1 Axes>"
      ]
     },
     "metadata": {
      "needs_background": "light"
     },
     "output_type": "display_data"
    }
   ],
   "source": [
    "importance = np.abs(xgb_model.feature_importances_)\n",
    "plt.figure(figsize=(15, 7));\n",
    "plt.bar(height=importance, x=feature_names);\n",
    "plt.xticks(rotation = 90);\n",
    "plt.title(\"Feature importances via coefficients on XGBoost Regression\");\n",
    "plt.show();"
   ]
  },
  {
   "cell_type": "markdown",
   "metadata": {},
   "source": [
    "### Multilayer Perceptron Regression"
   ]
  },
  {
   "cell_type": "code",
   "execution_count": null,
   "metadata": {},
   "outputs": [
    {
     "name": "stderr",
     "output_type": "stream",
     "text": [
      "/home/egkiastas/anaconda3/envs/thesis/lib/python3.7/site-packages/sklearn/neural_network/_multilayer_perceptron.py:696: ConvergenceWarning: Stochastic Optimizer: Maximum iterations (200) reached and the optimization hasn't converged yet.\n",
      "  ConvergenceWarning,\n"
     ]
    }
   ],
   "source": [
    "mlp_model = MLPRegressor(early_stopping=True)\n",
    "grid = dict()\n",
    "grid = {\n",
    "    'hidden_layer_sizes': [(50,50,50), (50,100,50), (50,100), (100,50), (100,)],\n",
    "    'activation': ['tanh', 'relu'],\n",
    "    'solver': ['sgd', 'adam'],\n",
    "    'alpha': [0.0001, 0.05, 0.09],\n",
    "    'learning_rate': ['constant','adaptive'],\n",
    "}\n",
    "search = GridSearchCV(mlp_model, grid, cv=5, n_jobs=-1)\n",
    "start = time.time()\n",
    "search.fit(x_train, y_train)\n",
    "# grid_mlp_elapsedTime = time.time()-start\n",
    "# print(\"Tuning time: %.5f seconds\" % grid_mlp_elapsedTime)\n",
    "# print(search.best_params_)\n",
    "\n",
    "mlp_model = MLPRegressor(early_stopping=True, hidden_layer_sizes=search.best_params_['hidden_layer_sizes'], \n",
    "        activation=search.best_params_['activation'], solver=search.best_params_['solver'],\n",
    "        alpha=search.best_params_['alpha'],learning_rate=search.best_params_['learning_rate']).fit(x_train, y_train)\n",
    "y_pred =mlp_model.predict(x_test)\n",
    "if scaling_output==1:\n",
    "    y_test_mlp = sc_y.inverse_transform(y_test)\n",
    "    y_pred_mlp = sc_y.inverse_transform(y_pred.reshape(-1, 1))\n",
    "else:\n",
    "    y_test_mlp = y_test\n",
    "    y_pred_mlp = y_pred"
   ]
  },
  {
   "cell_type": "code",
   "execution_count": null,
   "metadata": {},
   "outputs": [
    {
     "name": "stdout",
     "output_type": "stream",
     "text": [
      "R2 score: 0.58013\n",
      "MSE: 0.26341\n",
      "RMSE: 0.51324\n",
      "MAE: 0.39642\n"
     ]
    }
   ],
   "source": [
    "# Calculating R2 score, rmse and mae\n",
    "mlp_r2_before, mlp_mse_before, mlp_rmse_before, mlp_mae_before = get_metrics(y_test_mlp, y_pred_mlp)\n",
    "# mlp_r2_before, mlp_mse_before, mlp_rmse_before, mlp_mae_before = get_metrics(y_test_inversed, y_pred_inversed)\n",
    "print_metrics(mlp_r2_before, mlp_mse_before, mlp_rmse_before, mlp_mae_before)"
   ]
  },
  {
   "cell_type": "code",
   "execution_count": null,
   "metadata": {},
   "outputs": [],
   "source": []
  }
 ],
 "metadata": {
  "interpreter": {
   "hash": "17a46f19d1db421aef12fa7769500ae9b5cbd26442453a35deeba8f32649aeb6"
  },
  "kernelspec": {
   "display_name": "Python 3.7.13 ('thesis')",
   "language": "python",
   "name": "python3"
  },
  "language_info": {
   "codemirror_mode": {
    "name": "ipython",
    "version": 3
   },
   "file_extension": ".py",
   "mimetype": "text/x-python",
   "name": "python",
   "nbconvert_exporter": "python",
   "pygments_lexer": "ipython3",
   "version": "3.7.13"
  }
 },
 "nbformat": 4,
 "nbformat_minor": 4
}
